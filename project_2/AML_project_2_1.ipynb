{
  "nbformat": 4,
  "nbformat_minor": 0,
  "metadata": {
    "colab": {
      "name": "AML_project_2.ipynb",
      "provenance": [],
      "collapsed_sections": []
    },
    "kernelspec": {
      "name": "python3",
      "display_name": "Python 3"
    }
  },
  "cells": [
    {
      "cell_type": "code",
      "metadata": {
        "id": "Wg5kuKxcG25y"
      },
      "source": [
        "import pandas as pd\n",
        "import pickle\n",
        "import numpy as np\n",
        "import os\n",
        "\n",
        "from google.colab import files\n",
        "import io\n",
        "import time"
      ],
      "execution_count": null,
      "outputs": []
    },
    {
      "cell_type": "code",
      "metadata": {
        "id": "HQu1daM2Jato"
      },
      "source": [
        "# mounting google drive \n",
        "from google.colab import drive\n",
        "drive.mount('/content/drive')\n",
        "\n",
        "# specify base directory for files\n",
        "baseDir = '/content/drive/My Drive/ETHZ/AML/Project_2/'"
      ],
      "execution_count": null,
      "outputs": []
    },
    {
      "cell_type": "markdown",
      "metadata": {
        "id": "OY50YQaqKfBL"
      },
      "source": [
        "# Importing data"
      ]
    },
    {
      "cell_type": "code",
      "metadata": {
        "id": "UTV_Uzw3J9_2"
      },
      "source": [
        "# Importing original data & imputing\n",
        "D_X_df = pd.read_csv(baseDir + 'X_train.csv', index_col = 'id')\n",
        "D_y_df = pd.read_csv(baseDir + 'y_train.csv', index_col = 'id')\n",
        "D_test_df = pd.read_csv(baseDir + 'X_test.csv', index_col = 'id')\n",
        "\n",
        "D_X_df.head(20)"
      ],
      "execution_count": null,
      "outputs": []
    },
    {
      "cell_type": "markdown",
      "metadata": {
        "id": "OLM-ETPBsSY0"
      },
      "source": [
        "# Balance data"
      ]
    },
    {
      "cell_type": "code",
      "metadata": {
        "id": "Kyo6qklhsUZi"
      },
      "source": [
        "from sklearn.utils import resample\n",
        "\n",
        "# Combine X and y sets\n",
        "D_combined_df = D_X_df\n",
        "D_combined_df['y'] = D_y_df\n",
        "\n",
        "# Separate into class sets\n",
        "D_class0_df = D_combined_df[D_combined_df.y == 0]\n",
        "D_class1_df = D_combined_df[D_combined_df.y == 1]\n",
        "D_class2_df = D_combined_df[D_combined_df.y == 2]\n",
        "\n",
        "# Upsample minority classes\n",
        "D_class0_resampled = resample(D_class0_df, replace=True, n_samples=3600, random_state=123)\n",
        "D_class2_resampled = resample(D_class2_df, replace=True, n_samples=3600, random_state=123)\n",
        "\n",
        "# Recombine\n",
        "D_combined_df = D_class0_resampled.append(D_class1_df).append(D_class2_resampled)\n",
        "\n",
        "# Separate X and y again\n",
        "D_y_df = pd.DataFrame(D_combined_df['y'].sort_index())\n",
        "D_X_df = D_combined_df.drop('y', axis='columns').sort_index()"
      ],
      "execution_count": null,
      "outputs": []
    },
    {
      "cell_type": "markdown",
      "metadata": {
        "id": "sjHisAiCMpKn"
      },
      "source": [
        "# Convert to np & normalize to mean=0 , std=1"
      ]
    },
    {
      "cell_type": "code",
      "metadata": {
        "id": "MeAeUn-IKsJO"
      },
      "source": [
        "from sklearn import preprocessing\n",
        "\n",
        "D_X = np.array(D_X_df)\n",
        "D_y = np.ravel(np.array(D_y_df))\n",
        "D_test = np.array(D_test_df)\n",
        "\n",
        "scaler = preprocessing.StandardScaler()\n",
        "scaler.fit_transform(D_X)\n",
        "\n",
        "D_X_stand = scaler.transform(D_X)\n",
        "D_test_stand = scaler.transform(D_test) # scaling accoring to train set or to test set?"
      ],
      "execution_count": null,
      "outputs": []
    },
    {
      "cell_type": "markdown",
      "metadata": {
        "id": "HybDh1a8ooNf"
      },
      "source": [
        "# SVM"
      ]
    },
    {
      "cell_type": "code",
      "metadata": {
        "id": "uoOhhkUkoqKH"
      },
      "source": [
        "from sklearn.svm import SVC\n",
        "from sklearn.model_selection import cross_validate, GridSearchCV\n",
        "\n",
        "svm = SVC()\n",
        "params = {\n",
        "    'C':[1, 5],\n",
        "    'kernel':('linear', 'poly', 'rbf', 'sigmoid'),\n",
        "    'degree':[1, 5],\n",
        "    'gamma':('scale', 'auto')\n",
        "}\n",
        "\n",
        "model = GridSearchCV(estimator=svm, param_grid=params, scoring='balanced_accuracy', cv=10)\n",
        "model.fit(D_X_stand, D_y)\n",
        "\n",
        "print(\"Mean test scores:\")\n",
        "print(model.cv_results_['mean_test_score'])\n",
        "\n",
        "print(\"Best parameters:\")\n",
        "print(model.best_params_)"
      ],
      "execution_count": null,
      "outputs": []
    },
    {
      "cell_type": "markdown",
      "metadata": {
        "id": "j5uUFAjZNnur"
      },
      "source": [
        "# stratified K-fold"
      ]
    },
    {
      "cell_type": "code",
      "metadata": {
        "id": "RwbGq1CFNmj1"
      },
      "source": [
        "from sklearn.model_selection import StratifiedKFold\n",
        "\n",
        "skf = StratifiedKFold(n_splits=10, shuffle=True, random_state=13) # random_state is seed value\n",
        "\n",
        "ind_splits_skf = list(skf.split(D_X_stand,D_y))"
      ],
      "execution_count": null,
      "outputs": []
    },
    {
      "cell_type": "markdown",
      "metadata": {
        "id": "bGiggFt9PKys"
      },
      "source": [
        "# Feature selection - TODO?"
      ]
    },
    {
      "cell_type": "code",
      "metadata": {
        "id": "yZxNsEYBNK8X"
      },
      "source": [
        "from sklearn.linear_model import LogisticRegression\n",
        "from sklearn.feature_selection import SelectFromModel\n",
        "\n",
        "selector = SelectFromModel(estimator=LogisticRegression(max_iter=1000), max_features= 60).fit(D_X_stand,D_y)\n",
        "\n",
        "D_X_stand = selector.transform(D_X_stand)\n",
        "D_test_stand = selector.transform(D_test_stand)"
      ],
      "execution_count": null,
      "outputs": []
    },
    {
      "cell_type": "markdown",
      "metadata": {
        "id": "g02d6Mc3POMP"
      },
      "source": [
        "# Fitting data - one vs one classifier"
      ]
    },
    {
      "cell_type": "code",
      "metadata": {
        "id": "vN4tkjY7PVZl"
      },
      "source": [
        "from sklearn.svm import LinearSVC\n",
        "from sklearn.multiclass import OneVsOneClassifier\n",
        "\n",
        "folds, _ = np.shape(ind_splits_skf)\n",
        "models = []\n",
        "\n",
        "for f in range(folds):\n",
        "  X_fold_fit = D_X_stand[ind_splits_skf[f][0]]\n",
        "  y_fold_fit = D_y[ind_splits_skf[f][0]]\n",
        "\n",
        "  model = OneVsOneClassifier(LinearSVC(random_state=1, multi_class = 'ovr', class_weight = 'balanced', max_iter = 100000)).fit(X_fold_fit, y_fold_fit)\n",
        "\n",
        "  models.append(model)"
      ],
      "execution_count": null,
      "outputs": []
    },
    {
      "cell_type": "markdown",
      "metadata": {
        "id": "kqGofxHwWDF8"
      },
      "source": [
        "# Prediction & BMAC on Stratified Kfold - pick model with median value"
      ]
    },
    {
      "cell_type": "code",
      "metadata": {
        "id": "ksw-dX9cVtRs",
        "outputId": "dd566960-3dad-42aa-9a51-ccbf7ba46ab3",
        "colab": {
          "base_uri": "https://localhost:8080/",
          "height": 54
        }
      },
      "source": [
        "from sklearn.metrics import balanced_accuracy_score\n",
        "\n",
        "BMAC = []\n",
        "for index, m in enumerate(models):\n",
        "\n",
        "  X_fold_pred = D_X_stand[ind_splits_skf[index][1]]\n",
        "  y_fold_pred = D_y[ind_splits_skf[index][1]]\n",
        "\n",
        "  BMAC.append(balanced_accuracy_score(y_fold_pred, m.predict(X_fold_pred)))\n",
        "\n",
        "print(BMAC)\n",
        "\n",
        "medDif = np.abs(BMAC - np.median(BMAC))\n",
        "index_best = np.where(np.min(medDif) == medDif)[0][0]\n",
        "\n",
        "bestModel = models[index_best]"
      ],
      "execution_count": null,
      "outputs": [
        {
          "output_type": "stream",
          "text": [
            "[0.6583333333333333, 0.6416666666666667, 0.6944444444444445, 0.6398148148148147, 0.6657407407407407, 0.6990740740740741, 0.6101851851851853, 0.6361111111111111, 0.6324074074074074, 0.6962962962962963]\n"
          ],
          "name": "stdout"
        }
      ]
    },
    {
      "cell_type": "code",
      "metadata": {
        "id": "F0xsxm61qlgG",
        "outputId": "527dba67-86a7-42a3-9da5-35f0f5ecf2b2",
        "colab": {
          "base_uri": "https://localhost:8080/",
          "height": 34
        }
      },
      "source": [
        "index_best = np.where(np.median(BMAC))[0]\n",
        "index_best\n",
        "\n",
        "medDif = np.abs(BMAC - np.median(BMAC))\n",
        "np.where(np.min(medDif) == medDif)[0][0]"
      ],
      "execution_count": null,
      "outputs": [
        {
          "output_type": "execute_result",
          "data": {
            "text/plain": [
              "0"
            ]
          },
          "metadata": {
            "tags": []
          },
          "execution_count": 213
        }
      ]
    },
    {
      "cell_type": "markdown",
      "metadata": {
        "id": "TMu076TCW7k8"
      },
      "source": [
        "# Predict"
      ]
    },
    {
      "cell_type": "code",
      "metadata": {
        "id": "BKx05yiZVzW6",
        "outputId": "a91d6dbe-ba53-4072-ed9c-5c058a72e3ec",
        "colab": {
          "base_uri": "https://localhost:8080/"
        }
      },
      "source": [
        "result_r = model.predict(D_test_stand)\n",
        "result_r = np.transpose(np.array(result_r))\n",
        "\n",
        "print(result_r.shape)"
      ],
      "execution_count": 35,
      "outputs": [
        {
          "output_type": "stream",
          "text": [
            "(4100,)\n"
          ],
          "name": "stdout"
        }
      ]
    },
    {
      "cell_type": "markdown",
      "metadata": {
        "id": "Oc2Tnm_PBd5l"
      },
      "source": [
        "# Convert NP arrays back to Pandas dataframe"
      ]
    },
    {
      "cell_type": "code",
      "metadata": {
        "id": "Ol_wkd7rBhlr",
        "outputId": "0001c71e-d257-4ebb-adc3-c382f2323c0b",
        "colab": {
          "base_uri": "https://localhost:8080/",
          "height": 225
        }
      },
      "source": [
        "D_test_df.index\n",
        "D_y_df.columns\n",
        "\n",
        "df_r = pd.DataFrame(result_r,index=D_test_df.index.astype(int))\n",
        "df_out = pd.concat([df_r], axis=1, sort=False)\n",
        "df_out.columns = D_y_df.columns\n",
        "df_out.head()"
      ],
      "execution_count": 36,
      "outputs": [
        {
          "output_type": "execute_result",
          "data": {
            "text/html": [
              "<div>\n",
              "<style scoped>\n",
              "    .dataframe tbody tr th:only-of-type {\n",
              "        vertical-align: middle;\n",
              "    }\n",
              "\n",
              "    .dataframe tbody tr th {\n",
              "        vertical-align: top;\n",
              "    }\n",
              "\n",
              "    .dataframe thead th {\n",
              "        text-align: right;\n",
              "    }\n",
              "</style>\n",
              "<table border=\"1\" class=\"dataframe\">\n",
              "  <thead>\n",
              "    <tr style=\"text-align: right;\">\n",
              "      <th></th>\n",
              "      <th>y</th>\n",
              "    </tr>\n",
              "    <tr>\n",
              "      <th>id</th>\n",
              "      <th></th>\n",
              "    </tr>\n",
              "  </thead>\n",
              "  <tbody>\n",
              "    <tr>\n",
              "      <th>0</th>\n",
              "      <td>1</td>\n",
              "    </tr>\n",
              "    <tr>\n",
              "      <th>1</th>\n",
              "      <td>1</td>\n",
              "    </tr>\n",
              "    <tr>\n",
              "      <th>2</th>\n",
              "      <td>0</td>\n",
              "    </tr>\n",
              "    <tr>\n",
              "      <th>3</th>\n",
              "      <td>0</td>\n",
              "    </tr>\n",
              "    <tr>\n",
              "      <th>4</th>\n",
              "      <td>1</td>\n",
              "    </tr>\n",
              "  </tbody>\n",
              "</table>\n",
              "</div>"
            ],
            "text/plain": [
              "    y\n",
              "id   \n",
              "0   1\n",
              "1   1\n",
              "2   0\n",
              "3   0\n",
              "4   1"
            ]
          },
          "metadata": {
            "tags": []
          },
          "execution_count": 36
        }
      ]
    },
    {
      "cell_type": "markdown",
      "metadata": {
        "id": "1LmbvkmFXwpQ"
      },
      "source": [
        "# Saving dataframe"
      ]
    },
    {
      "cell_type": "code",
      "metadata": {
        "id": "ABIhXdKuXpwT",
        "outputId": "1a2177ac-6c0c-470e-e558-323e9ed2d7da",
        "colab": {
          "base_uri": "https://localhost:8080/"
        }
      },
      "source": [
        "import datetime\n",
        "now = datetime.datetime.now()\n",
        "unixTime = round(now.timestamp())\n",
        "\n",
        "name = f'{baseDir}predictions/pred_{unixTime}.csv'\n",
        "print(f'File was saved under {name}')\n",
        "df_out.to_csv(name, index=True, header = True, float_format='%.3f') #, compression='zip')"
      ],
      "execution_count": 37,
      "outputs": [
        {
          "output_type": "stream",
          "text": [
            "File was saved under /content/drive/My Drive/ETHZ/AML/Project_2/predictions/pred_1604071245.csv\n"
          ],
          "name": "stdout"
        }
      ]
    }
  ]
}